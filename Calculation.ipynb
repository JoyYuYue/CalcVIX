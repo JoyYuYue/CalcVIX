{
 "cells": [
  {
   "cell_type": "code",
   "execution_count": 3,
   "metadata": {
    "collapsed": true
   },
   "outputs": [],
   "source": [
    "from datetime import datetime\n",
    "import datetime as dt\n",
    "import numpy as np\n",
    "import pandas as pd\n",
    "from scipy import interpolate\n",
    "import scipy.stats as stats\n",
    "import py_vollib.ref_python.black_scholes_merton.implied_volatility as implied_volatility\n",
    "import py_vollib.black.implied_volatility as implied_volatility2\n",
    "from decimal import *\n",
    "getcontext().prec = 6"
   ]
  },
  {
   "cell_type": "code",
   "execution_count": 4,
   "metadata": {
    "collapsed": true
   },
   "outputs": [],
   "source": [
    "shibor_rate = pd.read_csv('data/shibor.csv', index_col=0, encoding='GBK')\n",
    "tradeday = pd.read_csv('data/tradetime.csv', encoding='GBK')\n",
    "pd.options.mode.chained_assignment = None"
   ]
  },
  {
   "cell_type": "code",
   "execution_count": 46,
   "metadata": {
    "collapsed": true
   },
   "outputs": [],
   "source": [
    "def periodsSplineRiskFreeInterestRate(options, date):\n",
    "    \"\"\"\n",
    "    params: options: 计算VIX的当天的options数据用来获取expDate\n",
    "            date: 计算哪天的VIX\n",
    "    return：shibor：该date到每个到期日exoDate的risk free rate\n",
    "\n",
    "    \"\"\"\n",
    "    date = datetime.strptime(date, '%Y-%m-%d %H:%M:%S')\n",
    "    date = datetime(date.year,date.month,date.day)\n",
    "    exp_dates = np.sort(options.maturity_date.unique())\n",
    "    periods = {}\n",
    "    for epd in exp_dates:\n",
    "        epd = pd.to_datetime(epd)\n",
    "        periods[epd] = ((epd - date).days+1) * 1.0 / 365.0\n",
    "    shibor_date = datetime.strptime(shibor_rate.index[0], \"%Y-%m-%d\")\n",
    "    if date >= shibor_date:\n",
    "        date_str = shibor_rate.index[0]\n",
    "        shibor_values = shibor_rate.loc[0].values\n",
    "        # shibor_values = np.asarray(list(map(float,shibor_values)))\n",
    "    else:\n",
    "        date_str = date.strftime(\"%Y-%m-%d\")\n",
    "        shibor_values = shibor_rate.loc[date_str].values\n",
    "        # shibor_values = np.asarray(list(map(float,shibor_values)))\n",
    "    shibor = {}\n",
    "    period = np.asarray([1.0, 7.0, 14.0, 30.0, 90.0, 180.0, 270.0, 360.0]) / 360.0\n",
    "    min_period = min(period)\n",
    "    max_period = max(period)\n",
    "    sh_func = interpolate.interp1d(period, shibor_values,kind = 'cubic')\n",
    "    for p in periods.keys():\n",
    "        tmp = periods[p]\n",
    "        if periods[p] > max_period:\n",
    "            tmp = max_period * 0.99999\n",
    "        elif periods[p] < min_period:\n",
    "            tmp = min_period * 1.00001\n",
    "        # 此处使用SHIBOR来插值\n",
    "        sh = sh_func(tmp)\n",
    "        shibor[p] = sh / 100.0\n",
    "    return shibor\n",
    "\n",
    "\n",
    "def getHistDayOptions(vixDate, options_data):\n",
    "    options_data = options_data.loc[vixDate,:]\n",
    "    return options_data\n",
    "\n",
    "\n",
    "def getNearNextOptExpDate(options, vixDate):\n",
    "    # 找到options中的当月和次月期权到期日；\n",
    "    # 用这两个期权隐含的未来波动率来插值计算未来30隐含波动率，是为市场恐慌指数VIX；\n",
    "    # 如果options中的最近到期期权离到期日仅剩1天以内，则抛弃这一期权，改选择次月期权和次月期权之后第一个到期的期权来计算。\n",
    "    # 返回的near和next就是用来计算VIX的两个期权的到期日\n",
    "    \"\"\"\n",
    "    params: options: 该date为交易日的所有期权合约的基本信息和价格信息\n",
    "            vixDate: VIX的计算日期\n",
    "    return: near: 当月合约到期日（ps：大于1天到期）\n",
    "            next：次月合约到期日\n",
    "    \"\"\"\n",
    "    vixDate = datetime.strptime(vixDate, '%Y-%m-%d %H:%M:%S')\n",
    "    optionsExpDate = list(pd.Series(options.maturity_date.values.ravel()).unique())\n",
    "    optionsExpDate = [datetime.strptime(i, '%Y-%m-%d') for i in optionsExpDate]\n",
    "    near = min(optionsExpDate)\n",
    "    optionsExpDate.remove(near)\n",
    "    if (near - vixDate).days < 7:\n",
    "        near = min(optionsExpDate)\n",
    "        optionsExpDate.remove(near)\n",
    "    nt = min(optionsExpDate)\n",
    "    #set it to 8:30 AM\n",
    "    near_final = datetime(near.year,near.month,near.day,8,30,0,0)\n",
    "    nt_final = datetime(nt.year,nt.month,nt.day,8,30,0,0)\n",
    "    return near_final, nt_final\n",
    "\n",
    "\n",
    "def getStrikeMinCallMinusPutClosePrice(options):\n",
    "    # options 中包括计算某日VIX的call和put两种期权，\n",
    "    # 对每个行权价，计算相应的call和put的价格差的绝对值，\n",
    "    # 返回这一价格差的绝对值最小的那个行权价，\n",
    "    # 并返回该行权价对应的call和put期权价格的差\n",
    "    \"\"\"\n",
    "    params:options: 该date为交易日的所有期权合约的基本信息和价格信息\n",
    "    return: strike: 看涨合约价格-看跌合约价格 的差值的绝对值最小的行权价\n",
    "            priceDiff: 以及这个差值，这个是用来确定中间行权价的第一步\n",
    "    \"\"\"\n",
    "    call = options[options.option_type == u\"C\"].set_index(u\"strike_price\").sort_index()\n",
    "    put = options[options.option_type == u\"P\"].set_index(u\"strike_price\").sort_index()\n",
    "    callMinusPut = call.close - put.close\n",
    "    strike = abs(callMinusPut).idxmin()\n",
    "    priceDiff = callMinusPut[strike]\n",
    "    return strike, priceDiff\n",
    "\n",
    "\n",
    "def calSigmaSquare(options, FF, R, T):\n",
    "    # 计算某个到期日期权对于VIX的贡献sigma；\n",
    "    # 输入为期权数据options，FF为forward index price，\n",
    "    # R为无风险利率， T为期权剩余到期时间\n",
    "    \"\"\"\n",
    "    params: options:该date为交易日的所有期权合约的基本信息和价格信息\n",
    "            FF: 根据上一步计算得来的strike，然后再计算得到的forward index price， 根据它对所需要的看涨看跌合约进行划分。\n",
    "                取小于FF的第一个行权价为中间行权价K0， 然后选取大于等于K0的所有看涨合约， 选取小于等于K0的所有看跌合约。\n",
    "                对行权价为K0的看涨看跌合约，删除看涨合约，不过看跌合约的价格为两者的均值。\n",
    "            R： 这部分期权合约到期日对应的无风险利率 shibor\n",
    "            T： 还有多久到期（年化）\n",
    "    return：Sigma：得到的结果是传入该到期日数据的Sigma\n",
    "    \"\"\"\n",
    "    callAll = options[options.option_type == u\"C\"].set_index(u\"strike_price\").sort_index()\n",
    "    putAll = options[options.option_type == u\"P\"].set_index(u\"strike_price\").sort_index()\n",
    "    callAll['deltak'] = 0.05\n",
    "    putAll['deltak'] = 0.05\n",
    "    k0 = callAll.loc[:FF].index.max()\n",
    "    call = callAll[callAll.index >= k0]\n",
    "    put = putAll[putAll.index <= k0]\n",
    "    calldict = call['close'].to_dict()\n",
    "    calldict_clean = check_preprocessing(calldict)\n",
    "    putdict = put['close'].to_dict()\n",
    "    putdict_clean = check_preprocessing(putdict)\n",
    "    k0_idx = k0\n",
    "    callsds = implied_vol('c', call['close'].loc[k0_idx], FF, k0, R, T, R)\n",
    "    putsds = implied_vol('p', put['close'].loc[k0_idx], FF, k0, R, T, R)\n",
    "#     sds = ((callsds + putsds) / 2) * np.sqrt(T) * FF\n",
    "    if putdict == {}:\n",
    "        k0_idx = call.index[0]\n",
    "        call, delta = interpolate_volatility(call,5,FF,R,T,R,'C',sds)\n",
    "        call['deltak'] = delta\n",
    "        callComponent = call.close * call.deltak / call.index / call.index\n",
    "        sigma = (sum(callComponent)) * np.exp(T * R) * 2 / T\n",
    "        sigma = sigma - (FF / k0_idx - 1) ** 2 / T\n",
    "    elif calldict == {}:\n",
    "        k0_idx = put.index[-1]\n",
    "        put,delta = interpolate_volatility(put,5,FF,R,T,R,'P',sds)\n",
    "        put['deltak'] = delta\n",
    "        putComponent = put.close * put.deltak / put.index / put.index\n",
    "        sigma = (sum(putComponent)) * np.exp(T * R) * 2 / T\n",
    "        sigma = sigma - (FF / k0_idx - 1) ** 2 / T\n",
    "    else:\n",
    "        k0_idx = put.index[-1]\n",
    "        put['close'].iloc[-1] = (putAll.loc[k0_idx].close + callAll.loc[k0_idx].close) / 2.0\n",
    "        \n",
    "        call, deltacall = interpolate_volatility(call,5,FF,R,T,R,'C',sds)\n",
    "        put, deltaput = interpolate_volatility(put,5,FF,R,T,R,'P',sds)\n",
    "        call['deltak'] = deltacall\n",
    "        put['deltak'] = deltaput\n",
    "        callComponent = call.close * call.deltak / call.index / call.index\n",
    "        putComponent = put.close * put.deltak / put.index / put.index\n",
    "        sigma = (sum(callComponent) + sum(putComponent)) * np.exp(T * R) * 2 / T\n",
    "        sigma = sigma - (FF / k0_idx - 1) ** 2 / T\n",
    "        return sigma, (callsds + putsds) / 2\n",
    "\n",
    "def changeste(t):\n",
    "    if t.month >= 10:\n",
    "        str_t = t.strftime('%Y-%m-%d')\n",
    "    else:\n",
    "        str_t = t.strftime('%Y-%m-%d')\n",
    "        # str_t = str_t[:5] + str_t[6:]\n",
    "    return str_t\n",
    "\n",
    "\n",
    "def calDayVIX(vixDate):\n",
    "    # 利用CBOE的计算方法，计算历史某一日的未来30日期权波动率指数VIX\n",
    "    \"\"\"\n",
    "    params：vixDate：计算VIX的日期  '%Y/%m/%d' 字符串格式\n",
    "    return：VIX结果\n",
    "    \"\"\"\n",
    "\n",
    "    # 拿取所需期权信息\n",
    "    date = datetime.strptime(vixDate, '%Y-%m-%d %H:%M:%S').strftime('%Y%m%d')\n",
    "    options_data = pd.read_csv('data/new_data/'+date+'.csv', index_col='datetime')\n",
    "    options = getHistDayOptions(vixDate, options_data)\n",
    "    near, nexts = getNearNextOptExpDate(options, vixDate)\n",
    "    shibor = periodsSplineRiskFreeInterestRate(options, vixDate)\n",
    "    R_near = shibor[datetime(near.year, near.month, near.day)]\n",
    "    R_next = shibor[datetime(nexts.year, nexts.month, nexts.day)]\n",
    "    str_near = changeste(near)\n",
    "    str_nexts = changeste(nexts)\n",
    "    optionsNearTerm = options[options.maturity_date == str_near]\n",
    "    optionsNextTerm = options[options.maturity_date == str_nexts]\n",
    "    # time to expiration\n",
    "    vixDate = datetime.strptime(vixDate, '%Y-%m-%d %H:%M:%S')\n",
    "    T_near = (near - vixDate).total_seconds() / (365.0*24.0*60.0*60.0)\n",
    "    T_next = (nexts - vixDate).total_seconds() / (365.0*24.0*60.0*60.0)\n",
    "    # the forward index prices\n",
    "    nearMinStrike, nearPriceDiff = getStrikeMinCallMinusPutClosePrice(optionsNearTerm)\n",
    "    nextMinStrike, nextPriceDiff = getStrikeMinCallMinusPutClosePrice(optionsNextTerm)\n",
    "    near_F = nearMinStrike + np.exp(T_near * R_near) * nearPriceDiff\n",
    "    next_F = nextMinStrike + np.exp(T_next * R_next) * nextPriceDiff\n",
    "    # 计算不同到期日期权对于VIX的贡献\n",
    "#     near_ntm_percentage, near_sigma,near_ntmsigma = calSigmaSquare(optionsNearTerm, near_F, R_near, T_near)\n",
    "#     next_ntm_percentage,next_sigma,next_ntmsigma = calSigmaSquare(optionsNextTerm, next_F, R_next, T_next)\n",
    "    near_sigma, near_BSIV = calSigmaSquare(optionsNearTerm, near_F, R_near, T_near)\n",
    "    next_sigma, next_BSIV = calSigmaSquare(optionsNextTerm, next_F, R_next, T_next)\n",
    "\n",
    "    # 利用两个不同到期日的期权对VIX的贡献sig1和sig2，、\n",
    "    # 已经相应的期权剩余到期时间T1和T2；\n",
    "    # 差值得到并返回VIX指数(%)\n",
    "    w = (T_next - 30.0 / 365.0) / (T_next - T_near)\n",
    "    vix = T_near * w * near_sigma + T_next * (1 - w) * next_sigma\n",
    "    return 100 * np.sqrt(abs(vix) * 365.0 / 30.0),near_BSIV, next_BSIV"
   ]
  },
  {
   "cell_type": "code",
   "execution_count": 6,
   "metadata": {
    "collapsed": true
   },
   "outputs": [],
   "source": [
    "def check_preprocessing(inputdict):\n",
    "    returndict = inputdict.copy()\n",
    "    for s in list(returndict.keys()):\n",
    "        if returndict[s] <= 0.0002:\n",
    "            del returndict[s]\n",
    "    return returndict\n",
    "def implied_vol(option_type, option_price, s, k, r, T, q):\n",
    "    # apply bisection method to get the implied volatility by solving the BSM function\n",
    "    precision = 0.00001\n",
    "    upper_vol = 500.0\n",
    "    max_vol = 500.0\n",
    "    min_vol = 0.0001\n",
    "    lower_vol = 0.0001\n",
    "    iteration = 0\n",
    "    while True:\n",
    "        iteration +=1\n",
    "        mid_vol = (upper_vol + lower_vol)/2.0\n",
    "        price = bsm_price(option_type, mid_vol, s, k, r, T, q)\n",
    "        if option_type == 'c':\n",
    "            lower_price = bsm_price(option_type, lower_vol, s, k, r, T, q)\n",
    "            if (lower_price - option_price) * (price - option_price) > 0:\n",
    "                lower_vol = mid_vol\n",
    "            else:\n",
    "                upper_vol = mid_vol\n",
    "            if abs(price - option_price) < precision: break \n",
    "            if mid_vol > max_vol - 5 :\n",
    "                mid_vol = 0.000001\n",
    "                break\n",
    "        elif option_type == 'p':\n",
    "            upper_price = bsm_price(option_type, upper_vol, s, k, r, T, q)\n",
    "\n",
    "            if (upper_price - option_price) * (price - option_price) > 0:\n",
    "                upper_vol = mid_vol\n",
    "            else:\n",
    "                lower_vol = mid_vol\n",
    "            if abs(price - option_price) < precision: break \n",
    "            if iteration > 50: break\n",
    "\n",
    "    return mid_vol\n",
    "def bsm_price(option_type, sigma, s, k, r, T, q):\n",
    "    # calculate the bsm price of European call and put options\n",
    "    sigma = float(sigma)\n",
    "    d1 = (np.log(s / k) + (r - q + sigma ** 2 * 0.5) * T) / (sigma * np.sqrt(T))\n",
    "    d2 = d1 - sigma * np.sqrt(T)\n",
    "    if option_type == 'c':\n",
    "        price = np.exp(-r*T) * (s * np.exp((r - q)*T) * stats.norm.cdf(d1) - k *  stats.norm.cdf(d2))\n",
    "        return price\n",
    "    elif option_type == 'p':\n",
    "        price = np.exp(-r*T) * (k * stats.norm.cdf(-d2) - s * np.exp((r - q)*T) *  stats.norm.cdf(-d1))\n",
    "        return price\n",
    "    else:\n",
    "        print('No such option type %s') %option_type\n",
    "def insert_array(k,array):\n",
    "    to_return = []\n",
    "    for i in range(len(array)-1):\n",
    "        to_return.append(array[i])\n",
    "        step = array[i+1]-array[i]\n",
    "        for j in range(k-1):\n",
    "            to_return.append(array[i]+(j+1)*step/k)\n",
    "    to_return.append(array[-1])\n",
    "    return to_return\n",
    "def insert_strike(inputdict,target):\n",
    "    to_return = {}\n",
    "    for p in target:\n",
    "        st_func = interpolate.interp1d(list(inputdict.keys()), list(inputdict.values()))\n",
    "        to_return[p] = float(st_func(p))\n",
    "    return to_return\n",
    "def interpolate_volatility(x,k,F, r, T, q, option_type,sds):\n",
    "# interpolation\n",
    "    try:\n",
    "        index = insert_array(5,x.index)\n",
    "        interpolation = insert_strike(x.close.to_dict(),index)\n",
    "        delta = index[1]-index[0]\n",
    "        to_return = pd.DataFrame(data=list(interpolation.values()),index=list(interpolation.keys()),columns = ['close'])\n",
    "    except:\n",
    "        to_return = pd.DataFrame(data=x.close, index = x.index)\n",
    "        delta = 0.05/k\n",
    "# extrapolation\n",
    "    if option_type == 'C':\n",
    "        idx = to_return.index[-1]\n",
    "        last_vol = implied_vol('c', to_return.close[idx], F, idx, r, T, q)\n",
    "        while idx - to_return.index[0] < 5*sds:\n",
    "            to_return.loc[idx + delta] = bsm_price('c', last_vol, F, idx + delta , r, T, q)\n",
    "            idx = idx + delta\n",
    "        to_return = to_return.drop([to_return.index[0]])\n",
    "    else:\n",
    "        idx = to_return.index[0]\n",
    "        first_vol = implied_vol('p', to_return.close[idx], F, idx, r, T, q)\n",
    "        while to_return.index[-1] - idx < 5*sds and idx > 0.0001:\n",
    "            to_return.loc[idx-delta] = bsm_price('p', first_vol, F, idx - delta , r, T, q)\n",
    "            idx = idx - delta\n",
    "    to_return = to_return.sort_index()\n",
    "    return to_return, delta"
   ]
  },
  {
   "cell_type": "code",
   "execution_count": null,
   "metadata": {},
   "outputs": [],
   "source": [
    "for day in tradeday['datetime']:\n",
    "    c, near_BSIV, next_BSIV = calDayVIX(day)\n",
    "    print(day, c, near_BSIV, next_BSIV)"
   ]
  },
  {
   "cell_type": "code",
   "execution_count": null,
   "metadata": {},
   "outputs": [],
   "source": []
  },
  {
   "cell_type": "code",
   "execution_count": null,
   "metadata": {},
   "outputs": [],
   "source": []
  },
  {
   "cell_type": "code",
   "execution_count": null,
   "metadata": {
    "collapsed": true
   },
   "outputs": [],
   "source": []
  },
  {
   "cell_type": "code",
   "execution_count": null,
   "metadata": {
    "scrolled": true
   },
   "outputs": [],
   "source": []
  },
  {
   "cell_type": "code",
   "execution_count": null,
   "metadata": {
    "collapsed": true
   },
   "outputs": [],
   "source": []
  },
  {
   "cell_type": "code",
   "execution_count": null,
   "metadata": {},
   "outputs": [],
   "source": []
  },
  {
   "cell_type": "code",
   "execution_count": null,
   "metadata": {
    "collapsed": true
   },
   "outputs": [],
   "source": []
  },
  {
   "cell_type": "code",
   "execution_count": null,
   "metadata": {
    "collapsed": true
   },
   "outputs": [],
   "source": []
  },
  {
   "cell_type": "code",
   "execution_count": null,
   "metadata": {
    "scrolled": true
   },
   "outputs": [],
   "source": []
  },
  {
   "cell_type": "code",
   "execution_count": null,
   "metadata": {
    "collapsed": true
   },
   "outputs": [],
   "source": []
  },
  {
   "cell_type": "code",
   "execution_count": null,
   "metadata": {
    "collapsed": true,
    "scrolled": true
   },
   "outputs": [],
   "source": []
  },
  {
   "cell_type": "code",
   "execution_count": null,
   "metadata": {
    "collapsed": true
   },
   "outputs": [],
   "source": []
  },
  {
   "cell_type": "code",
   "execution_count": null,
   "metadata": {
    "collapsed": true,
    "scrolled": true
   },
   "outputs": [],
   "source": []
  },
  {
   "cell_type": "code",
   "execution_count": null,
   "metadata": {
    "collapsed": true
   },
   "outputs": [],
   "source": []
  },
  {
   "cell_type": "code",
   "execution_count": null,
   "metadata": {
    "collapsed": true
   },
   "outputs": [],
   "source": []
  },
  {
   "cell_type": "code",
   "execution_count": null,
   "metadata": {
    "collapsed": true
   },
   "outputs": [],
   "source": []
  },
  {
   "cell_type": "code",
   "execution_count": null,
   "metadata": {
    "collapsed": true
   },
   "outputs": [],
   "source": []
  },
  {
   "cell_type": "code",
   "execution_count": null,
   "metadata": {},
   "outputs": [],
   "source": []
  },
  {
   "cell_type": "code",
   "execution_count": null,
   "metadata": {
    "collapsed": true
   },
   "outputs": [],
   "source": []
  },
  {
   "cell_type": "code",
   "execution_count": null,
   "metadata": {
    "collapsed": true
   },
   "outputs": [],
   "source": []
  }
 ],
 "metadata": {
  "kernelspec": {
   "display_name": "Python 3",
   "language": "python",
   "name": "python3"
  },
  "language_info": {
   "codemirror_mode": {
    "name": "ipython",
    "version": 3
   },
   "file_extension": ".py",
   "mimetype": "text/x-python",
   "name": "python",
   "nbconvert_exporter": "python",
   "pygments_lexer": "ipython3",
   "version": "3.6.1"
  }
 },
 "nbformat": 4,
 "nbformat_minor": 2
}
